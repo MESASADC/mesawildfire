{
 "metadata": {
  "name": ""
 },
 "nbformat": 3,
 "nbformat_minor": 0,
 "worksheets": [
  {
   "cells": [
    {
     "cell_type": "markdown",
     "metadata": {},
     "source": [
      "World blocks"
     ]
    },
    {
     "cell_type": "code",
     "collapsed": false,
     "input": [
      "from pprint import pprint\n",
      "import rasterio\n",
      "from rasterio import features\n",
      "from rasterio.tool import show\n",
      "import numpy as np\n",
      "\n",
      "import pywt\n",
      "\n",
      "import matplotlib.pyplot as plt\n",
      "import matplotlib.colors as colors\n",
      "\n",
      "\n",
      "\n"
     ],
     "language": "python",
     "metadata": {},
     "outputs": [],
     "prompt_number": 183
    },
    {
     "cell_type": "code",
     "collapsed": false,
     "input": [
      "aoi = (np.random.random((64,64)) > 0.99).astype(np.uint8)\n",
      "show(aoi)"
     ],
     "language": "python",
     "metadata": {},
     "outputs": [],
     "prompt_number": 232
    },
    {
     "cell_type": "code",
     "collapsed": false,
     "input": [
      "shapes = features.shapes(aoi,connectivity=4)\n",
      "\n",
      "# why does rasterize not work with shapes iterator?\n",
      "shapelist = [s for s in shapes]\n",
      "    \n",
      "image = features.rasterize(\n",
      "            shapelist,\n",
      "            out_shape=aoi.shape)\n",
      "\n",
      "show(image, 'hot')\n"
     ],
     "language": "python",
     "metadata": {},
     "outputs": [],
     "prompt_number": 233
    },
    {
     "cell_type": "code",
     "collapsed": false,
     "input": [
      "path = ''\n",
      "data = wt[path].data\n",
      "print data.shape\n",
      "print data\n",
      "show(data, 'hot')\n"
     ],
     "language": "python",
     "metadata": {},
     "outputs": [
      {
       "output_type": "stream",
       "stream": "stdout",
       "text": [
        "(64, 64)\n",
        "[[ 0.  0.  0. ...,  0.  0.  0.]\n",
        " [ 0.  0.  0. ...,  0.  0.  0.]\n",
        " [ 0.  0.  0. ...,  0.  0.  0.]\n",
        " ..., \n",
        " [ 0.  0.  0. ...,  0.  0.  0.]\n",
        " [ 0.  0.  0. ...,  0.  0.  0.]\n",
        " [ 0.  0.  0. ...,  0.  0.  0.]]\n"
       ]
      }
     ],
     "prompt_number": 264
    },
    {
     "cell_type": "code",
     "collapsed": false,
     "input": [
      "wt.get_level(0, order='natural')"
     ],
     "language": "python",
     "metadata": {},
     "outputs": [
      {
       "metadata": {},
       "output_type": "pyout",
       "prompt_number": 243,
       "text": [
        "[<pywt.wavelet_packets.WaveletPacket2D at 0x7f2eb4aca590>]"
       ]
      }
     ],
     "prompt_number": 243
    },
    {
     "cell_type": "code",
     "collapsed": false,
     "input": [
      "print wt['aaaaaa'].data\n",
      "wt['aaaaaa'].data = np.array([[ -10]])\n",
      "wt.reconstruct()\n",
      "print wt['aaaaaa'].data"
     ],
     "language": "python",
     "metadata": {},
     "outputs": [
      {
       "output_type": "stream",
       "stream": "stdout",
       "text": [
        "[[-1]]\n",
        "[[-10]]\n"
       ]
      }
     ],
     "prompt_number": 258
    },
    {
     "cell_type": "code",
     "collapsed": false,
     "input": [],
     "language": "python",
     "metadata": {},
     "outputs": [],
     "prompt_number": 111
    },
    {
     "cell_type": "code",
     "collapsed": false,
     "input": [],
     "language": "python",
     "metadata": {},
     "outputs": []
    },
    {
     "cell_type": "code",
     "collapsed": false,
     "input": [
      "levels = 6\n",
      "length = 2**levels\n",
      "\n",
      "mask = np.zeros((length,length))\n",
      "#mask[1,1] = 10\n",
      "\n",
      "wt = pywt.WaveletPacket2D(mask, 'haar')\n",
      "print wt.maxlevel\n",
      "print wt.data\n",
      "#show(wt.data)\n",
      "\n",
      "path = 'dddd'\n",
      "print wt[path].data\n",
      "print wt[path].data.shape\n",
      "wt[path].data = [[0, 0, 0, 0], [1, 0, 0, 0],[1, 0, 0, 0],[0, 0, 0, 0]] \n",
      "wt.reconstruct()\n",
      "print wt.data\n",
      "\n",
      "\n",
      "show(wt.data)\n"
     ],
     "language": "python",
     "metadata": {},
     "outputs": [
      {
       "output_type": "stream",
       "stream": "stdout",
       "text": [
        "6\n",
        "[[ 0.  0.  0. ...,  0.  0.  0.]\n",
        " [ 0.  0.  0. ...,  0.  0.  0.]\n",
        " [ 0.  0.  0. ...,  0.  0.  0.]\n",
        " ..., \n",
        " [ 0.  0.  0. ...,  0.  0.  0.]\n",
        " [ 0.  0.  0. ...,  0.  0.  0.]\n",
        " [ 0.  0.  0. ...,  0.  0.  0.]]\n",
        "[[ 0.  0.  0.  0.]\n",
        " [ 0.  0.  0.  0.]\n",
        " [ 0.  0.  0.  0.]\n",
        " [ 0.  0.  0.  0.]]\n",
        "(4, 4)\n",
        "[[ 0.  0.  0. ...,  0.  0.  0.]\n",
        " [ 0.  0.  0. ...,  0.  0.  0.]\n",
        " [ 0.  0.  0. ...,  0.  0.  0.]\n",
        " ..., \n",
        " [ 0.  0.  0. ...,  0.  0.  0.]\n",
        " [ 0.  0.  0. ...,  0.  0.  0.]\n",
        " [ 0.  0.  0. ...,  0.  0.  0.]]\n"
       ]
      }
     ],
     "prompt_number": 316
    },
    {
     "cell_type": "code",
     "collapsed": false,
     "input": [],
     "language": "python",
     "metadata": {},
     "outputs": []
    }
   ],
   "metadata": {}
  }
 ]
}