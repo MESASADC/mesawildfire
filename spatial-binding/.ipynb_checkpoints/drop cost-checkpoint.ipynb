{
 "metadata": {
  "name": ""
 },
 "nbformat": 3,
 "nbformat_minor": 0,
 "worksheets": [
  {
   "cells": [
    {
     "cell_type": "code",
     "collapsed": false,
     "input": [
      "from pprint import pprint\n",
      "import rasterio\n",
      "from rasterio import features\n",
      "from rasterio.tool import show\n",
      "import numpy as np\n",
      "\n",
      "import pywt\n",
      "\n",
      "import matplotlib.pyplot as plt\n",
      "import matplotlib.colors as colors\n",
      "\n",
      "\n"
     ],
     "language": "python",
     "metadata": {},
     "outputs": [],
     "prompt_number": 259
    },
    {
     "cell_type": "code",
     "collapsed": false,
     "input": [
      "levels = 6\n",
      "length = 2**levels\n",
      "\n",
      "image = (np.random.random((length,length)) >= 0.5) * 1.\n",
      "print image.shape\n",
      "\n"
     ],
     "language": "python",
     "metadata": {},
     "outputs": [
      {
       "output_type": "stream",
       "stream": "stdout",
       "text": [
        "(64, 64)\n"
       ]
      }
     ],
     "prompt_number": 260
    },
    {
     "cell_type": "code",
     "collapsed": false,
     "input": [
      "levels = 6\n",
      "length = 2**levels\n",
      "half = length/2\n",
      "\n",
      "image = np.zeros((length, length))\n",
      "\n",
      "#pulse = 5\n",
      "#image[half-pulse:half+pulse+1,half-pulse:half+pulse+1] = 1\n",
      "\n",
      "feature = np.zeros((7,7))\n",
      "feature[0, 1:3] = 1\n",
      "feature[1, 1:5] = 1\n",
      "feature[2, 1:5] = 1\n",
      "feature[3, 1:5] = 1\n",
      "feature[4, 0:6] = 1\n",
      "feature[5, 0:6] = 1\n",
      "feature[6, 2:4] = 1\n",
      "\n",
      "for i in range(levels*2):\n",
      "    r,c = (np.random.random((1,2))[0] * (length - 7)).astype(np.int)\n",
      "    print r,c\n",
      "    image[r:r+7,c:c+7] = feature\n",
      "\n",
      "#show(feature)\n",
      "\n",
      "print image.shape\n",
      "\n",
      "show(image)\n"
     ],
     "language": "python",
     "metadata": {},
     "outputs": [
      {
       "output_type": "stream",
       "stream": "stdout",
       "text": [
        "23 38\n",
        "56 42\n",
        "25 36\n",
        "38 36\n",
        "32 39\n",
        "8 21\n",
        "52 1\n",
        "54 12\n",
        "50 19\n",
        "32 56\n",
        "22 52\n",
        "43 45\n",
        "(64, 64)\n"
       ]
      }
     ],
     "prompt_number": 261
    },
    {
     "cell_type": "code",
     "collapsed": false,
     "input": [
      "def setcoeff(wt, value, paths=['v', 'h', 'd']):\n",
      "    count = 0\n",
      "    for path in paths:\n",
      "        wt[path].data = np.ones(wt[path].data.shape) * value\n",
      "        count += np.prod(wt[path].data.shape)\n",
      "    wt.reconstruct()\n",
      "    return count\n",
      "\n",
      "wavelet = 'db1'\n",
      "\n",
      "wt = pywt.WaveletPacket2D(image, wavelet)\n",
      "wtset = pywt.WaveletPacket2D(np.zeros(image.shape), wavelet)\n",
      "\n",
      "show(wt.data)\n",
      "\n",
      "count = 0\n",
      "paths = [node.path for node in wt.get_level(5)]\n",
      "count = setcoeff(wt, 0, paths)\n",
      "setcoeff(wtset, 1, paths)\n",
      "\n",
      "image1 = (wtset.data)\n",
      "show(image1)\n",
      "\n",
      "print 'dropped: {}'.format(count)\n",
      "\n",
      "image2 = (wt.data >= 0.5) * 1.\n",
      "show(image2)\n",
      "show(image2-image)\n",
      "\n",
      "cost = np.sum((np.abs(image2-image)))\n",
      "\n",
      "print 'cost: {}'.format(cost)\n"
     ],
     "language": "python",
     "metadata": {},
     "outputs": [
      {
       "output_type": "stream",
       "stream": "stdout",
       "text": [
        "dropped: 4096\n",
        "cost: 316.0"
       ]
      },
      {
       "output_type": "stream",
       "stream": "stdout",
       "text": [
        "\n"
       ]
      }
     ],
     "prompt_number": 291
    },
    {
     "cell_type": "code",
     "collapsed": false,
     "input": [
      "[node.path for node in wt.get_level(2)]\n"
     ],
     "language": "python",
     "metadata": {},
     "outputs": [
      {
       "metadata": {},
       "output_type": "pyout",
       "prompt_number": 300,
       "text": [
        "['aa',\n",
        " 'ah',\n",
        " 'av',\n",
        " 'ad',\n",
        " 'ha',\n",
        " 'hh',\n",
        " 'hv',\n",
        " 'hd',\n",
        " 'va',\n",
        " 'vh',\n",
        " 'vv',\n",
        " 'vd',\n",
        " 'da',\n",
        " 'dh',\n",
        " 'dv',\n",
        " 'dd']"
       ]
      }
     ],
     "prompt_number": 300
    },
    {
     "cell_type": "code",
     "collapsed": false,
     "input": [
      "wt['aaa'].decompose()"
     ],
     "language": "python",
     "metadata": {},
     "outputs": [
      {
       "metadata": {},
       "output_type": "pyout",
       "prompt_number": 303,
       "text": [
        "(<pywt.wavelet_packets.Node2D at 0x7fd1ecbab810>,\n",
        " <pywt.wavelet_packets.Node2D at 0x7fd1eca9d810>,\n",
        " <pywt.wavelet_packets.Node2D at 0x7fd1ecad1a50>,\n",
        " <pywt.wavelet_packets.Node2D at 0x7fd1eca5fa90>)"
       ]
      }
     ],
     "prompt_number": 303
    },
    {
     "cell_type": "code",
     "collapsed": false,
     "input": [],
     "language": "python",
     "metadata": {},
     "outputs": [],
     "prompt_number": 262
    }
   ],
   "metadata": {}
  }
 ]
}